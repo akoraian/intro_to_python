{
  "cells": [
    {
      "cell_type": "markdown",
      "metadata": {
        "id": "SJ2-_7uCHIun"
      },
      "source": [
        "<h1 align=\"center\">Introduction to Programming with Python</h1>\n",
        "\n",
        "## Instructors\n",
        "- Scott Bailey\n",
        "- Claire Cahoon\n",
        "- Natalia Lopez\n",
        "\n",
        "## Learning objectives\n",
        "\n",
        "By the end of our workshop today, we hope you'll understand basic syntax in Python for variables, functions, and control flow, and understand some of the basic data structures in Python. With these in hand, you'll know enough to write basic scripts and explore other features of the language.  \n",
        "\n",
        "## Topics\n",
        "- Variables and types/structures (String, Int, Float, List, Dictionary)\n",
        "- Functions\n",
        "- Control flow\n",
        "- Reading and writing text to a file\n",
        "- A basic workflow of reading in content, doing something to it, then writing a new output"
      ]
    },
    {
      "cell_type": "markdown",
      "metadata": {
        "id": "1lDQAAreHIur"
      },
      "source": [
        "##  Setup\n",
        "\n",
        "With this Google Colab notebook open, click the \"Copy to Drive\" button that appears in the menu bar. The notebook will then be attached to your own user account, so you can edit it in any way you like -- you can even take notes directly in the notebook."
      ]
    },
    {
      "cell_type": "markdown",
      "metadata": {
        "id": "tSfm6UKV2YcZ"
      },
      "source": [
        "## Zoom etiquette\n",
        "\n",
        "Please make sure that your mic is muted during the workshop."
      ]
    },
    {
      "cell_type": "markdown",
      "metadata": {
        "id": "IqN2R9HH2YcZ"
      },
      "source": [
        "## Questions during the workshop\n",
        "\n",
        "During the workshop, we have a second instructor who will be monitoring chat on Zoom. Please feel free to ask questions by chat throughout the workshop. Our second instructor will answer as able, and will aggregate questions with answers that might help everyone.\n",
        "\n",
        "At the end of each section of the workshop, the primary instructor will answer aggregated and new questions as time permits. If we aren't able to get to your question during the workshop, please follow up with us afterward."
      ]
    },
    {
      "cell_type": "markdown",
      "metadata": {
        "id": "yYkp3KycHIut"
      },
      "source": [
        "## Why Python?\n",
        "\n",
        "It's multi-use: you can write simple scripts to automate tasks, write complex code for machine learning and other approaches, and even build full-scale web applications.\n",
        "\n",
        "The biggest reason we see people learning Python right now is for data science and related approaches, regardless of disciplinary background."
      ]
    },
    {
      "cell_type": "markdown",
      "metadata": {
        "id": "TFekjJ1tHIuu"
      },
      "source": [
        "## Jupyter Notebooks and Google Colaboratory\n",
        "\n",
        "Jupyter notebooks are a way to write and run Python code in an interactive way. They're quickly becoming a standard way of putting together data, code, and written explanations or visualizations into a single document and sharing that. There are a lot of ways that you can run Jupyter notebooks, including just locally on your computer, but we've decided to use Google's Colaboratory notebook platform for this workshop.  Colaboratory is “a Google research project created to help disseminate machine learning education and research.”  If you would like to know more about Colaboratory in general, you can visit the [Welcome Notebook](https://colab.research.google.com/notebooks/welcome.ipynb).\n",
        "\n",
        "Using the Google Colaboratory platform allows us to focus on learning and writing Python in the workshop rather than on setting up Python, which can sometimes take a bit of extra work depending on platforms, operating systems, and other installed applications. If you'd like to install a Python distribution locally, though, we're happy to help. Feel free to [get help from our graduate consultants](https://www.lib.ncsu.edu/dxl) or [schedule an appointment with Libraries staff](https://go.ncsu.edu/dvs-request)."
      ]
    },
    {
      "cell_type": "markdown",
      "metadata": {
        "id": "YQuWlRD32Yce"
      },
      "source": [
        "### A note on code comments\n",
        "In the code below, you'll see some lines that start with `#` and are shown in a different color of font than the rest of the code. These are comments, which are ways to annotate your code in any Python environment.\n",
        "\n",
        "Python skips over comments when running code, so those lines don't execute any instructions. They can be helpful when debugging code, and for making notes in plain language to help you make sense of the code."
      ]
    },
    {
      "cell_type": "markdown",
      "metadata": {
        "id": "JFZht2PvHIux"
      },
      "source": [
        "## Variables and types"
      ]
    },
    {
      "cell_type": "code",
      "execution_count": 1,
      "metadata": {
        "colab": {
          "base_uri": "https://localhost:8080/",
          "height": 56
        },
        "id": "2dKlye84HIuy",
        "outputId": "c248a356-c7ce-4efe-e693-c4d969256e1a"
      },
      "outputs": [
        {
          "output_type": "stream",
          "name": "stdout",
          "text": [
            "Hello, I'm Scott. It's a pleasure to meet you.\n"
          ]
        },
        {
          "output_type": "execute_result",
          "data": {
            "text/plain": [
              "\"Hello, I'm Scott. It's a pleasure to meet you.\""
            ],
            "application/vnd.google.colaboratory.intrinsic+json": {
              "type": "string"
            }
          },
          "metadata": {},
          "execution_count": 1
        }
      ],
      "source": [
        "# Strings\n",
        "greeting = \"Hello, I'm Scott. It's a pleasure to meet you.\"\n",
        "# After you run this cell, note the difference between printing out in the notebook\n",
        "# and getting the output from the last line of the cell\n",
        "print(greeting)\n",
        "greeting"
      ]
    },
    {
      "cell_type": "code",
      "execution_count": 3,
      "metadata": {
        "colab": {
          "base_uri": "https://localhost:8080/",
          "height": 38
        },
        "id": "bgTKY2nrHIu7",
        "outputId": "b8ae34d1-6136-4dbf-fadf-33246bfcdca1"
      },
      "outputs": [
        {
          "output_type": "execute_result",
          "data": {
            "text/plain": [
              "'o'"
            ],
            "application/vnd.google.colaboratory.intrinsic+json": {
              "type": "string"
            }
          },
          "metadata": {},
          "execution_count": 3
        }
      ],
      "source": [
        "# Find a letter by index\n",
        "greeting[4]"
      ]
    },
    {
      "cell_type": "code",
      "execution_count": 4,
      "metadata": {
        "colab": {
          "base_uri": "https://localhost:8080/"
        },
        "id": "2iGANp4bHIvB",
        "outputId": "2bec4db1-ca62-4b6c-dc31-9208a3def3da"
      },
      "outputs": [
        {
          "output_type": "execute_result",
          "data": {
            "text/plain": [
              "46"
            ]
          },
          "metadata": {},
          "execution_count": 4
        }
      ],
      "source": [
        "# Get the length of a string. Length here is a built-in function in Python\n",
        "len(greeting)"
      ]
    },
    {
      "cell_type": "code",
      "execution_count": 7,
      "metadata": {
        "id": "6255N_lVHIvH"
      },
      "outputs": [],
      "source": [
        "len?"
      ]
    },
    {
      "cell_type": "code",
      "execution_count": 5,
      "metadata": {
        "colab": {
          "base_uri": "https://localhost:8080/"
        },
        "id": "SrUawwd_HIvL",
        "outputId": "684446f4-83e6-42b4-e9a4-909c41f194c0"
      },
      "outputs": [
        {
          "output_type": "execute_result",
          "data": {
            "text/plain": [
              "8"
            ]
          },
          "metadata": {},
          "execution_count": 5
        }
      ],
      "source": [
        "# Count spaces in the string. Here, count() is a method that all strings have, i.e.,\n",
        "# a function that can be run on the string.\n",
        "greeting.count(' ')"
      ]
    },
    {
      "cell_type": "code",
      "execution_count": 6,
      "metadata": {
        "id": "jfuQkgKnHIvR"
      },
      "outputs": [],
      "source": [
        "greeting.count?"
      ]
    },
    {
      "cell_type": "code",
      "execution_count": 8,
      "metadata": {
        "colab": {
          "base_uri": "https://localhost:8080/",
          "height": 38
        },
        "id": "mlKrvYoPHIvW",
        "outputId": "b2d1cbe6-134b-42ad-c61d-bd3adba75db1"
      },
      "outputs": [
        {
          "output_type": "execute_result",
          "data": {
            "text/plain": [
              "'Hel'"
            ],
            "application/vnd.google.colaboratory.intrinsic+json": {
              "type": "string"
            }
          },
          "metadata": {},
          "execution_count": 8
        }
      ],
      "source": [
        "# Slice to get the first 3 characters\n",
        "# Basic format is identifier[start:end:step]\n",
        "greeting[0:3]\n",
        "# Omitted start=0, omitted end=length\n",
        "#greeting[:3]"
      ]
    },
    {
      "cell_type": "code",
      "execution_count": 9,
      "metadata": {
        "colab": {
          "base_uri": "https://localhost:8080/",
          "height": 38
        },
        "id": "zIJzWuG5HIvd",
        "outputId": "ce59b868-9186-40e4-9a0f-969175c9576e"
      },
      "outputs": [
        {
          "output_type": "execute_result",
          "data": {
            "text/plain": [
              "'ou.'"
            ],
            "application/vnd.google.colaboratory.intrinsic+json": {
              "type": "string"
            }
          },
          "metadata": {},
          "execution_count": 9
        }
      ],
      "source": [
        "# Get the last three characters\n",
        "greeting[-3:]"
      ]
    },
    {
      "cell_type": "code",
      "execution_count": 10,
      "metadata": {
        "colab": {
          "base_uri": "https://localhost:8080/",
          "height": 38
        },
        "id": "zjkm_CS2HIvi",
        "outputId": "d8c1b716-42f1-4bfa-b1a1-c0425445d1fd"
      },
      "outputs": [
        {
          "output_type": "execute_result",
          "data": {
            "text/plain": [
              "\"Goodbye, I'm Scott. It's a pleasure to meet you.\""
            ],
            "application/vnd.google.colaboratory.intrinsic+json": {
              "type": "string"
            }
          },
          "metadata": {},
          "execution_count": 10
        }
      ],
      "source": [
        "# Replace hello with goodbye\n",
        "greeting.replace(\"Hello\", \"Goodbye\")"
      ]
    },
    {
      "cell_type": "code",
      "execution_count": 11,
      "metadata": {
        "colab": {
          "base_uri": "https://localhost:8080/",
          "height": 38
        },
        "id": "3VS_83xpHIvm",
        "outputId": "4574732d-52bc-432b-b35b-e218ac0dc647"
      },
      "outputs": [
        {
          "output_type": "execute_result",
          "data": {
            "text/plain": [
              "'Hello World'"
            ],
            "application/vnd.google.colaboratory.intrinsic+json": {
              "type": "string"
            }
          },
          "metadata": {},
          "execution_count": 11
        }
      ],
      "source": [
        "# String concatenation\n",
        "\"Hello \" + \"World\""
      ]
    },
    {
      "cell_type": "code",
      "execution_count": 14,
      "metadata": {
        "colab": {
          "base_uri": "https://localhost:8080/",
          "height": 38
        },
        "id": "PjEAKNMZHIvr",
        "outputId": "7fa4ede4-4dfd-456c-925e-cb5d9060c377"
      },
      "outputs": [
        {
          "output_type": "execute_result",
          "data": {
            "text/plain": [
              "\"Hello, I'm Scott. It's a pleasure to meet you.\""
            ],
            "application/vnd.google.colaboratory.intrinsic+json": {
              "type": "string"
            }
          },
          "metadata": {},
          "execution_count": 14
        }
      ],
      "source": [
        "# Autocomplete (use arrow keys) help to explore functionality\n",
        "greeting."
      ]
    },
    {
      "cell_type": "code",
      "execution_count": 15,
      "metadata": {
        "colab": {
          "base_uri": "https://localhost:8080/"
        },
        "id": "73438kSPHIvu",
        "outputId": "424ec02e-9b40-4b5f-f6b7-9983bf2f0c05"
      },
      "outputs": [
        {
          "output_type": "stream",
          "name": "stdout",
          "text": [
            "<class 'int'> <class 'float'>\n"
          ]
        }
      ],
      "source": [
        "# Numbers\n",
        "# Integer and floats\n",
        "first_num = 10\n",
        "second_num = 5.467\n",
        "print(type(first_num), type(second_num))"
      ]
    },
    {
      "cell_type": "code",
      "execution_count": null,
      "metadata": {
        "id": "xxjzn3dfHIvx"
      },
      "outputs": [],
      "source": [
        "# Addition\n",
        "1 + 5"
      ]
    },
    {
      "cell_type": "code",
      "execution_count": 17,
      "metadata": {
        "colab": {
          "base_uri": "https://localhost:8080/"
        },
        "id": "xBy-9Z-9HIv3",
        "outputId": "f2c50fe9-404d-46b2-ffda-cc7db42624c9"
      },
      "outputs": [
        {
          "output_type": "execute_result",
          "data": {
            "text/plain": [
              "5.0"
            ]
          },
          "metadata": {},
          "execution_count": 17
        }
      ],
      "source": [
        "# Division\n",
        "10 / 2"
      ]
    },
    {
      "cell_type": "code",
      "execution_count": 16,
      "metadata": {
        "colab": {
          "base_uri": "https://localhost:8080/"
        },
        "id": "3haQcz2pCpIp",
        "outputId": "b28f48ad-cc8b-4a35-9f92-d894631ce1c6"
      },
      "outputs": [
        {
          "output_type": "execute_result",
          "data": {
            "text/plain": [
              "6"
            ]
          },
          "metadata": {},
          "execution_count": 16
        }
      ],
      "source": [
        "# Division, rounding down to nearest integer (\"floor\")\n",
        "20 // 3"
      ]
    },
    {
      "cell_type": "code",
      "execution_count": 18,
      "metadata": {
        "colab": {
          "base_uri": "https://localhost:8080/"
        },
        "id": "aQbMEh7uHIv9",
        "outputId": "c65d32a7-4f4a-49b7-fe2c-0feb4f750a31"
      },
      "outputs": [
        {
          "output_type": "execute_result",
          "data": {
            "text/plain": [
              "10.0"
            ]
          },
          "metadata": {},
          "execution_count": 18
        }
      ],
      "source": [
        "# Multiplication\n",
        "5 * 2.0"
      ]
    },
    {
      "cell_type": "code",
      "execution_count": 22,
      "metadata": {
        "colab": {
          "base_uri": "https://localhost:8080/"
        },
        "id": "wrwQEJrEHIwF",
        "outputId": "152c026c-8559-4a58-e7fd-2d8727d7753a"
      },
      "outputs": [
        {
          "output_type": "execute_result",
          "data": {
            "text/plain": [
              "['coffee', 'tea', 'water']"
            ]
          },
          "metadata": {},
          "execution_count": 22
        }
      ],
      "source": [
        "# Lists\n",
        "drinks = ['coffee', 'tea', 'water']\n",
        "drinks"
      ]
    },
    {
      "cell_type": "code",
      "execution_count": 19,
      "metadata": {
        "colab": {
          "base_uri": "https://localhost:8080/"
        },
        "id": "zB7aR64oHIwK",
        "outputId": "de5e02c3-98d1-4a79-88cb-d61bc9407698"
      },
      "outputs": [
        {
          "output_type": "stream",
          "name": "stdout",
          "text": [
            "<class 'int'>\n",
            "<class 'str'>\n",
            "<class 'float'>\n",
            "<class 'str'>\n"
          ]
        }
      ],
      "source": [
        "# Python allows you to create lists containing elements of different types\n",
        "mixed = [2, 'hello', 10.5, 'here is a sentence']\n",
        "for item in mixed:\n",
        "    print(type(item))"
      ]
    },
    {
      "cell_type": "code",
      "execution_count": 20,
      "metadata": {
        "colab": {
          "base_uri": "https://localhost:8080/"
        },
        "id": "OraaGapZHIwP",
        "outputId": "6423e829-6c5e-4e42-bbc5-492fd0eb73e3"
      },
      "outputs": [
        {
          "output_type": "execute_result",
          "data": {
            "text/plain": [
              "10.5"
            ]
          },
          "metadata": {},
          "execution_count": 20
        }
      ],
      "source": [
        "# Get item by index\n",
        "mixed[2]"
      ]
    },
    {
      "cell_type": "code",
      "execution_count": null,
      "metadata": {
        "id": "C2kgPh9Tilrp"
      },
      "outputs": [],
      "source": [
        "drinks.append?"
      ]
    },
    {
      "cell_type": "code",
      "execution_count": 23,
      "metadata": {
        "colab": {
          "base_uri": "https://localhost:8080/"
        },
        "id": "KB2zWbVfHIwT",
        "outputId": "b866481d-1395-47ec-fe72-816c1b55460d"
      },
      "outputs": [
        {
          "output_type": "execute_result",
          "data": {
            "text/plain": [
              "['hot water', 'tea', 'water', 'juice']"
            ]
          },
          "metadata": {},
          "execution_count": 23
        }
      ],
      "source": [
        "# Add an item to the end of the list\n",
        "drinks.append('juice')\n",
        "# Modify an element \"in place\" via its index\n",
        "drinks[0] = \"hot water\"\n",
        "drinks"
      ]
    },
    {
      "cell_type": "code",
      "execution_count": 24,
      "metadata": {
        "colab": {
          "base_uri": "https://localhost:8080/"
        },
        "id": "sw1B7uasHIwX",
        "outputId": "ed23050b-6c30-4c94-b719-04851985b280"
      },
      "outputs": [
        {
          "output_type": "execute_result",
          "data": {
            "text/plain": [
              "['Hello,', \"I'm\", 'Scott.', \"It's\", 'a', 'pleasure', 'to', 'meet', 'you.']"
            ]
          },
          "metadata": {},
          "execution_count": 24
        }
      ],
      "source": [
        "# Splitting a string - note the type of the output\n",
        "greeting_words = greeting.split(' ')\n",
        "greeting_words"
      ]
    },
    {
      "cell_type": "code",
      "execution_count": 25,
      "metadata": {
        "colab": {
          "base_uri": "https://localhost:8080/",
          "height": 38
        },
        "id": "df1BPlH6HIwZ",
        "outputId": "85767499-715f-48ac-9b2b-a28326c01074"
      },
      "outputs": [
        {
          "output_type": "execute_result",
          "data": {
            "text/plain": [
              "\"Hello,|I'm|Scott.|It's|a|pleasure|to|meet|you.\""
            ],
            "application/vnd.google.colaboratory.intrinsic+json": {
              "type": "string"
            }
          },
          "metadata": {},
          "execution_count": 25
        }
      ],
      "source": [
        "# Joining a list of strings\n",
        "\"|\".join(greeting_words)"
      ]
    },
    {
      "cell_type": "code",
      "execution_count": 26,
      "metadata": {
        "colab": {
          "base_uri": "https://localhost:8080/",
          "height": 38
        },
        "id": "0Q4DxvmBDGNT",
        "outputId": "ae32682d-45ff-4a99-8524-59862c2513fc"
      },
      "outputs": [
        {
          "output_type": "execute_result",
          "data": {
            "text/plain": [
              "'Religious Studies'"
            ],
            "application/vnd.google.colaboratory.intrinsic+json": {
              "type": "string"
            }
          },
          "metadata": {},
          "execution_count": 26
        }
      ],
      "source": [
        "# Dictionaries are another useful data type. They associate \"keys\" (usually strings or integers)\n",
        "# to values, which can be anything: ints, strings, floats, lists, other dictionaries\n",
        "majors = { 'Scott': 'Religious Studies',\n",
        "           'Vincent': 'Electrical Engineering',\n",
        "           'Mike': 'Library Science',\n",
        "           'Walt': 'Geospatial Analysis' }\n",
        "majors['Scott']"
      ]
    },
    {
      "cell_type": "markdown",
      "metadata": {
        "id": "BXtrF6N_HIwf"
      },
      "source": [
        "There are plenty of other data types and structures that we aren't going to use today, such as: sets, tuples, and so forth."
      ]
    },
    {
      "cell_type": "markdown",
      "metadata": {
        "id": "JaZY-y6FHIwg"
      },
      "source": [
        "## Functions\n",
        "\n",
        "At the most basic level, functions are chunks of reusable code."
      ]
    },
    {
      "cell_type": "code",
      "execution_count": 43,
      "metadata": {
        "colab": {
          "base_uri": "https://localhost:8080/"
        },
        "id": "I5dsX6pkHIwg",
        "outputId": "0c9f316c-17c3-4630-b6b9-075e344502b7"
      },
      "outputs": [
        {
          "output_type": "execute_result",
          "data": {
            "text/plain": [
              "4"
            ]
          },
          "metadata": {},
          "execution_count": 43
        }
      ],
      "source": [
        "# Define a function -- note use of indenting!\n",
        "def add(num1, num2):\n",
        "    # Other steps\n",
        "    return num1 + num2\n",
        "\n",
        "add(1, 3)"
      ]
    },
    {
      "cell_type": "code",
      "execution_count": 44,
      "metadata": {
        "colab": {
          "base_uri": "https://localhost:8080/"
        },
        "id": "9Qso8TseHIwl",
        "outputId": "3e951ac4-006c-4dc5-b807-8f9a5d593379"
      },
      "outputs": [
        {
          "output_type": "execute_result",
          "data": {
            "text/plain": [
              "['hello', 2, 1, 10]"
            ]
          },
          "metadata": {},
          "execution_count": 44
        }
      ],
      "source": [
        "def combine_arrays(array1, array2):\n",
        "    new_list = array1 + array2\n",
        "    return new_list\n",
        "\n",
        "first = ['hello', 2]\n",
        "second = [1, 10]\n",
        "new = combine_arrays(first, second)\n",
        "new"
      ]
    },
    {
      "cell_type": "markdown",
      "metadata": {
        "id": "AFXH4yqCHIwq"
      },
      "source": [
        "### Activity: Write a pig-latinization function\n",
        "\n",
        "Pig latin is a language game where you take the first letter of a word, move it to the end of the word, then add '-ay' at the end. For example, 'pig latin' would be 'igpay atinlay' and 'python' would turn into 'ythonpay'.\n",
        "\n",
        "In the cell below, write a function that takes a string, lowercases it, and returns the pig latin translation of the word. You'll need to use slicing and string concatenation to make this work."
      ]
    },
    {
      "cell_type": "code",
      "execution_count": 72,
      "metadata": {
        "colab": {
          "base_uri": "https://localhost:8080/",
          "height": 38
        },
        "id": "aIv7xEAdqzFG",
        "outputId": "daebf4f9-4ddc-4512-f313-376429a5aae5"
      },
      "outputs": [
        {
          "output_type": "execute_result",
          "data": {
            "text/plain": [
              "'ellohay veryoneeay ymay amenay siay arkipliermay'"
            ],
            "application/vnd.google.colaboratory.intrinsic+json": {
              "type": "string"
            }
          },
          "metadata": {},
          "execution_count": 72
        }
      ],
      "source": [
        "def pig_latinize(input_word):\n",
        "  allwords = input_word.split()\n",
        "  piglatwords = []\n",
        "  for index in allwords:\n",
        "    letter1 = index[0]\n",
        "    rest = index[1:]\n",
        "    piglat = rest + letter1 + \"ay\"\n",
        "    piglatwords.append(piglat)\n",
        "  joinedpiglat = \" \".join(piglatwords)\n",
        "  lowpiglat = joinedpiglat.lower()\n",
        "  return(lowpiglat)\n",
        "\n",
        "# the following should return 'ellohay veryoneeay'\n",
        "pig_latinize('Hello everyone my name is Markiplier')"
      ]
    },
    {
      "cell_type": "markdown",
      "metadata": {
        "id": "Lk20eiVAHIwv"
      },
      "source": [
        "## Control flow"
      ]
    },
    {
      "cell_type": "code",
      "execution_count": null,
      "metadata": {
        "id": "EDJp21NoHIwv"
      },
      "outputs": [],
      "source": [
        "# IF (conditional execution)\n",
        "name = \"Scott\"\n",
        "\n",
        "if name == \"Scott\":\n",
        "    print(\"Hi Scott!\")\n",
        "else:\n",
        "    print(\"Who are you?\")"
      ]
    },
    {
      "cell_type": "code",
      "execution_count": null,
      "metadata": {
        "id": "QtW84SkhnrvH"
      },
      "outputs": [],
      "source": [
        "if type(name) == str:\n",
        "    print(\"It's a string!\")"
      ]
    },
    {
      "cell_type": "code",
      "execution_count": null,
      "metadata": {
        "id": "NdAGrsNTHIwz"
      },
      "outputs": [],
      "source": [
        "# You can use control flow with functions\n",
        "# Also, you can use if, else if, and else to specify more than one condition\n",
        "name = \"Bob\"\n",
        "\n",
        "def say_hello(name):\n",
        "    return \"Hello, \" + name + \"!\"\n",
        "\n",
        "if name == \"Bob\" or name != \"Scott\":\n",
        "    message = say_hello(\"Bob\")\n",
        "    print(message)\n",
        "elif name == \"Scott\":\n",
        "    message = say_hello(\"Scott\")\n",
        "    print(message)\n",
        "else:\n",
        "    print(\"Who are you?\")"
      ]
    },
    {
      "cell_type": "code",
      "execution_count": null,
      "metadata": {
        "id": "quma-JNWHIw3"
      },
      "outputs": [],
      "source": [
        "# FOR loops let you iterate over a list or other iterable object\n",
        "names = [\"Scott\", \"Vincent\", \"Natalia\", \"Mike\", \"Karen\"]\n",
        "for name in names:\n",
        "    print(name, len(name))"
      ]
    },
    {
      "cell_type": "code",
      "execution_count": null,
      "metadata": {
        "id": "oMXUE6vQHIw5"
      },
      "outputs": [],
      "source": [
        "# You can combine types of control flow\n",
        "for name in names[:3]:\n",
        "    if len(name) > 5:\n",
        "        print(name)"
      ]
    },
    {
      "cell_type": "code",
      "execution_count": null,
      "metadata": {
        "id": "uIDb_CojDTpQ"
      },
      "outputs": [],
      "source": [
        "# Testing list membership\n",
        "if 'Scott' in names:\n",
        "    print(\"Scott is here\")\n",
        "else:\n",
        "    print(\"Scott is missing!\")"
      ]
    },
    {
      "cell_type": "code",
      "execution_count": null,
      "metadata": {
        "id": "Jby2eeWmHIw7"
      },
      "outputs": [],
      "source": [
        "# User-defined functions in FOR loops\n",
        "def add_one(num):\n",
        "    return num + 1\n",
        "\n",
        "nums = [1, 2, 3, 4]\n",
        "plus = []\n",
        "for num in nums:\n",
        "    plus.append(add_one(num))\n",
        "\n",
        "#plus = list(map(add_one, nums))\n",
        "plus"
      ]
    },
    {
      "cell_type": "code",
      "execution_count": null,
      "metadata": {
        "id": "NY2cs8OyHIxA"
      },
      "outputs": [],
      "source": [
        "# ADVANCED: List Comprehensions\n",
        "# List comprehensions are a \"pythonic\" way of building lists in a compact manner\n",
        "\n",
        "added = [add_one(num) for num in nums]\n",
        "added"
      ]
    },
    {
      "cell_type": "code",
      "execution_count": null,
      "metadata": {
        "id": "_pB53kxgHIxD"
      },
      "outputs": [],
      "source": [
        "long_names = [name.lower() for name in names[:3] if len(name) > 5]\n",
        "long_names"
      ]
    },
    {
      "cell_type": "code",
      "execution_count": null,
      "metadata": {
        "id": "6RyfcYe8knjk"
      },
      "outputs": [],
      "source": [
        "majors"
      ]
    },
    {
      "cell_type": "code",
      "execution_count": null,
      "metadata": {
        "id": "JFnUmu0IDam-"
      },
      "outputs": [],
      "source": [
        "# ADVANCED: List Comprehension with dictionary value lookup\n",
        "key = 'Vincent'\n",
        "value = majors[key]\n",
        "print(value)\n",
        "print(value.find(\"Studies\"))\n",
        "studiers = [key for key in majors if \"Studies\" in majors[key]]\n",
        "studiers"
      ]
    },
    {
      "cell_type": "markdown",
      "metadata": {
        "id": "lZlPlQfEHIxG"
      },
      "source": [
        "### Activity: Pig-latinize a list\n",
        "\n",
        "In the cell below, write a function that loops over a list and returns a new list where all the strings have been replaced with their pig latin translations.\n",
        "\n",
        "For example, if your list is `['hello', 5, 'world']` your output should be `['ellohay', 5, 'orldway']`.\n",
        "\n",
        "Feel free to reuse the pig latinizer function you wrote above. You'll also need to think about checking the type of each item in the list."
      ]
    },
    {
      "cell_type": "code",
      "execution_count": null,
      "metadata": {
        "id": "gv2C65Xir_LK"
      },
      "outputs": [],
      "source": [
        "def pig_latinize_list(items):\n",
        "    # Code goes here\n",
        "\n",
        "pig_latinize_list(['hello', 5, 'world'])"
      ]
    },
    {
      "cell_type": "markdown",
      "metadata": {
        "id": "Cw2TglyqHIxK"
      },
      "source": [
        "## Reading from and writing text to a file\n",
        "\n",
        "Working with comma-separated and similar data files will be covered in a later workshop. It's worthwhile, however, to see how to read and write data or text to and from a file. We'll start with writing some text to a file, then explore how to read it.\n"
      ]
    },
    {
      "cell_type": "code",
      "execution_count": null,
      "metadata": {
        "id": "QOj4Ix0dHIxL"
      },
      "outputs": [],
      "source": [
        "sample_text = \"\"\"\n",
        "Lorem ipsum dolor sit amet, consectetur adipiscing elit.\n",
        "Fusce pharetra tristique iaculis. Morbi maximus interdum nibh, at faucibus lacus porta vitae.\n",
        "Praesent mi velit, tempus sit amet sagittis a, sodales sit amet sapien.\n",
        "Praesent dictum, diam a hendrerit cursus, eros dolor posuere sem, a porttitor libero nulla molestie eros.\n",
        "\"\"\"\n",
        "\n",
        "with open('lorem.txt', 'a') as f:\n",
        "    f.write(sample_text)\n",
        "\n",
        "# You might sometimes see an older pattern:\n",
        "# f = open('lorem.txt', 'w')\n",
        "# f.write(sample_text)\n",
        "# f.close()"
      ]
    },
    {
      "cell_type": "markdown",
      "metadata": {
        "id": "cNqvFmJD2Ycz"
      },
      "source": [
        "You can check the \"Files\" tab in the column at left now to find the output file.\n",
        "Note that you must click the REFRESH\" button to see it."
      ]
    },
    {
      "cell_type": "code",
      "execution_count": null,
      "metadata": {
        "id": "2K-9QtptHIxN"
      },
      "outputs": [],
      "source": [
        "# Now, let's read the file back.\n",
        "with open('lorem.txt', 'r') as f:\n",
        "    print(f.read())"
      ]
    },
    {
      "cell_type": "code",
      "execution_count": null,
      "metadata": {
        "id": "yViwpBFMHIxO"
      },
      "outputs": [],
      "source": [
        "# We can also read the file line by line\n",
        "with open('lorem.txt', 'r') as f:\n",
        "    for line in f:\n",
        "        line = line.replace(\"\\n\", \"\") + \"END\"\n",
        "        print(line)"
      ]
    },
    {
      "cell_type": "markdown",
      "metadata": {
        "id": "4UX0mZBjHIxR"
      },
      "source": [
        "### Collaborative activity: Read a file, pig-latinize it, write it to another file\n",
        "\n",
        "Our goal is to read in a file containing the text of Shakespeare's Sonnet 18, pig latinize the sonnet, and write a new file containing the pig latinized sonnet.\n",
        "\n",
        "Hint for the activity: you may want to remove spaces from the beginning and end of each line with .strip()"
      ]
    },
    {
      "cell_type": "code",
      "execution_count": null,
      "metadata": {
        "id": "60xhq6JI2Yc0"
      },
      "outputs": [],
      "source": [
        "# This command downloads the sonnet.txt file from this workshop's folder on\n",
        "# Github to the Colab environment. After running this cell, you should be able\n",
        "# to see the file in the \"Files\" list in the pane to the left of this notebook.\n",
        "!wget -O sonnet.txt --no-check-certificate \"https://raw.githubusercontent.com/NCSU-Libraries/data-viz-workshops/master/Introduction_to_Python/sonnet.txt\""
      ]
    },
    {
      "cell_type": "code",
      "execution_count": null,
      "metadata": {
        "id": "EWnhS_K_v1w3"
      },
      "outputs": [],
      "source": [
        "with open('sonnet.txt', 'r') as f:\n",
        "    with open('pig_latinized_sonnet.txt', 'w') as g:\n",
        "        # More code goes here"
      ]
    },
    {
      "cell_type": "markdown",
      "metadata": {
        "id": "BPYg8TFGmcoS"
      },
      "source": [
        "Click the \"REFRESH\" button to update the \"Files\" list at left to display any new files you've created."
      ]
    },
    {
      "cell_type": "markdown",
      "metadata": {
        "id": "FgsqJZovHIxS"
      },
      "source": [
        "## Further resources and topics\n",
        "\n",
        "### Resources\n",
        "- https://python.swaroopch.com/ (A Byte of Python is a great intro book and reference for Python)\n",
        "- https://docs.python.org/3/ (Official Python documentation and tutorials)\n",
        "- https://realpython.com/ (Contains a lot of different tutorials at different levels)\n",
        "- https://www.lynda.com/Python-training-tutorials/415-0.html (Lynda is free with NC State accounts. I haven't used these tutorials but have used Lynda for other programming languages and been quite happy with it)\n",
        "- https://www.dataquest.io/ (a free then paid series of courses with an emphasis on data science)\n",
        "\n",
        "### Topics\n",
        "- Other data structures: sets, tuples\n",
        "- Libraries, packages, and pip\n",
        "- Virtual environments\n",
        "- Text editors and local execution environments\n",
        "- The object-oriented paradigm in Python: classes, methods\n",
        "\n",
        "### Installing Python\n",
        "There are quite a few ways to install Python on your own computer, including the [official Python downloads](https://www.python.org/downloads/) and the very popular data-science focused [Anaconda Python distribution](https://www.anaconda.com/products/individual). Depending on your operating system, how you want to write code, and what type of projects you might work on, there are other approaches as well, such as using [pyenv](https://github.com/pyenv/pyenv) and [poetry](https://python-poetry.org/). If you're not sure which approach to take, feel free to get in touch and we'll talk through options and help you get set up.\n",
        "\n",
        "### Popular editors for Python\n",
        "Today we've been writing and running code in Google Colab, which is one particular version of Jupyter Notebooks. Depending on your projects and what you're working on, you may want to write your code in a text editor. While there are many options, if you're just getting started we recommend [Visual Studio Code](https://code.visualstudio.com/) for any operating system but are happy to talk through other editors.\n"
      ]
    },
    {
      "cell_type": "markdown",
      "metadata": {
        "id": "43CiQTAl2Yc0"
      },
      "source": [
        "## Evaluation survey\n",
        "Please, spend 1 minute answering these questions that can help us a lot on future workshops.\n",
        "\n",
        "https://go.ncsu.edu/dvs-eval"
      ]
    },
    {
      "cell_type": "markdown",
      "metadata": {
        "id": "kgstChcB2Yc0"
      },
      "source": [
        "## Credits\n",
        "\n",
        "\n",
        "This workshop was originally developed and taught at Stanford University by Scott Bailey and Javier de la Rosa, with later contributions from Peter Broadwell and Simon Wiles. At NC State, it's enjoyed further contributions from Vincent Tompkins and Claire Cahoon."
      ]
    },
    {
      "cell_type": "code",
      "execution_count": null,
      "metadata": {
        "id": "avA1bI8e2Yc0"
      },
      "outputs": [],
      "source": []
    }
  ],
  "metadata": {
    "colab": {
      "collapsed_sections": [
        "FgsqJZovHIxS"
      ],
      "name": "Introduction to Python.ipynb",
      "provenance": [],
      "toc_visible": true
    },
    "kernelspec": {
      "display_name": "Python 3",
      "language": "python",
      "name": "python3"
    },
    "language_info": {
      "codemirror_mode": {
        "name": "ipython",
        "version": 3
      },
      "file_extension": ".py",
      "mimetype": "text/x-python",
      "name": "python",
      "nbconvert_exporter": "python",
      "pygments_lexer": "ipython3",
      "version": "3.8.0"
    }
  },
  "nbformat": 4,
  "nbformat_minor": 0
}